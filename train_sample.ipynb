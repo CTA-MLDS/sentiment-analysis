{
 "cells": [
  {
   "cell_type": "code",
   "execution_count": 1,
   "metadata": {},
   "outputs": [
    {
     "name": "stderr",
     "output_type": "stream",
     "text": [
      "/Users/watanabeshingo/sentiment/.venv/lib/python3.11/site-packages/tqdm/auto.py:21: TqdmWarning: IProgress not found. Please update jupyter and ipywidgets. See https://ipywidgets.readthedocs.io/en/stable/user_install.html\n",
      "  from .autonotebook import tqdm as notebook_tqdm\n"
     ]
    }
   ],
   "source": [
    "import numpy as np\n",
    "import pandas as pd\n",
    "from transformers import AutoTokenizer, AutoModelForSequenceClassification, TrainingArguments, Trainer, AutoModel, AutoConfig, AdamW, get_linear_schedule_with_warmup\n",
    "from datasets import Dataset, load_metric\n",
    "import matplotlib.pyplot as plt\n",
    "import seaborn as sns\n",
    "import torch\n",
    "import torch.nn as nn"
   ]
  },
  {
   "cell_type": "code",
   "execution_count": 2,
   "metadata": {},
   "outputs": [],
   "source": [
    "# pandas.DataFrameとして読み込む\n",
    "df_wrime = pd.read_table('wrime-ver1.tsv')"
   ]
  },
  {
   "cell_type": "code",
   "execution_count": 3,
   "metadata": {},
   "outputs": [],
   "source": [
    "# Plutchikの8つの基本感情\n",
    "emotion_names = ['Joy', 'Sadness', 'Anticipation', 'Surprise', 'Anger', 'Fear', 'Disgust', 'Trust']\n",
    "emotion_names_jp = ['喜び', '悲しみ', '期待', '驚き', '怒り', '恐れ', '嫌悪', '信頼']  # 日本語版\n",
    "num_labels = len(emotion_names)\n",
    "\n",
    "# readers_emotion_intensities 列を生成する\n",
    "# \"Avg. Readers_*\" の値をlist化したもの\n",
    "df_wrime['readers_emotion_intensities'] = df_wrime.apply(lambda x: [x['Avg. Readers_' + name] for name in emotion_names], axis=1)\n",
    "\n",
    "# 感情強度が低いサンプルは除外する\n",
    "# (readers_emotion_intensities の max が２以上のサンプルのみを対象とする)\n",
    "is_target = df_wrime['readers_emotion_intensities'].map(lambda x: max(x) >= 2)\n",
    "df_wrime_target = df_wrime[is_target]\n",
    "     "
   ]
  },
  {
   "cell_type": "code",
   "execution_count": 4,
   "metadata": {},
   "outputs": [
    {
     "name": "stdout",
     "output_type": "stream",
     "text": [
      "train : 17104\n",
      "test : 1133\n"
     ]
    }
   ],
   "source": [
    "# train / test に分割する\n",
    "df_groups = df_wrime_target.groupby('Train/Dev/Test')\n",
    "df_train = df_groups.get_group('train')\n",
    "df_test = pd.concat([df_groups.get_group('dev'), df_groups.get_group('test')])\n",
    "print('train :', len(df_train))\n",
    "print('test :', len(df_test))"
   ]
  },
  {
   "cell_type": "code",
   "execution_count": 5,
   "metadata": {},
   "outputs": [],
   "source": [
    "# 使用するモデルを指定して、Tokenizerを読み込む\n",
    "checkpoint = 'cl-tohoku/bert-base-japanese-whole-word-masking'\n",
    "tokenizer = AutoTokenizer.from_pretrained(checkpoint)"
   ]
  },
  {
   "cell_type": "code",
   "execution_count": 6,
   "metadata": {},
   "outputs": [
    {
     "name": "stderr",
     "output_type": "stream",
     "text": [
      "Some weights of BertModel were not initialized from the model checkpoint at cl-tohoku/bert-base-japanese-whole-word-masking and are newly initialized because the shapes did not match:\n",
      "- bert.embeddings.word_embeddings.weight: found shape torch.Size([32000, 768]) in the checkpoint and torch.Size([32000, 252]) in the model instantiated\n",
      "- bert.embeddings.position_embeddings.weight: found shape torch.Size([512, 768]) in the checkpoint and torch.Size([512, 252]) in the model instantiated\n",
      "- bert.embeddings.token_type_embeddings.weight: found shape torch.Size([2, 768]) in the checkpoint and torch.Size([2, 252]) in the model instantiated\n",
      "- bert.embeddings.LayerNorm.weight: found shape torch.Size([768]) in the checkpoint and torch.Size([252]) in the model instantiated\n",
      "- bert.embeddings.LayerNorm.bias: found shape torch.Size([768]) in the checkpoint and torch.Size([252]) in the model instantiated\n",
      "- bert.encoder.layer.0.attention.self.query.weight: found shape torch.Size([768, 768]) in the checkpoint and torch.Size([252, 252]) in the model instantiated\n",
      "- bert.encoder.layer.0.attention.self.query.bias: found shape torch.Size([768]) in the checkpoint and torch.Size([252]) in the model instantiated\n",
      "- bert.encoder.layer.0.attention.self.key.weight: found shape torch.Size([768, 768]) in the checkpoint and torch.Size([252, 252]) in the model instantiated\n",
      "- bert.encoder.layer.0.attention.self.key.bias: found shape torch.Size([768]) in the checkpoint and torch.Size([252]) in the model instantiated\n",
      "- bert.encoder.layer.0.attention.self.value.weight: found shape torch.Size([768, 768]) in the checkpoint and torch.Size([252, 252]) in the model instantiated\n",
      "- bert.encoder.layer.0.attention.self.value.bias: found shape torch.Size([768]) in the checkpoint and torch.Size([252]) in the model instantiated\n",
      "- bert.encoder.layer.0.attention.output.dense.weight: found shape torch.Size([768, 768]) in the checkpoint and torch.Size([252, 252]) in the model instantiated\n",
      "- bert.encoder.layer.0.attention.output.dense.bias: found shape torch.Size([768]) in the checkpoint and torch.Size([252]) in the model instantiated\n",
      "- bert.encoder.layer.0.attention.output.LayerNorm.weight: found shape torch.Size([768]) in the checkpoint and torch.Size([252]) in the model instantiated\n",
      "- bert.encoder.layer.0.attention.output.LayerNorm.bias: found shape torch.Size([768]) in the checkpoint and torch.Size([252]) in the model instantiated\n",
      "- bert.encoder.layer.0.intermediate.dense.weight: found shape torch.Size([3072, 768]) in the checkpoint and torch.Size([3072, 252]) in the model instantiated\n",
      "- bert.encoder.layer.0.output.dense.weight: found shape torch.Size([768, 3072]) in the checkpoint and torch.Size([252, 3072]) in the model instantiated\n",
      "- bert.encoder.layer.0.output.dense.bias: found shape torch.Size([768]) in the checkpoint and torch.Size([252]) in the model instantiated\n",
      "- bert.encoder.layer.0.output.LayerNorm.weight: found shape torch.Size([768]) in the checkpoint and torch.Size([252]) in the model instantiated\n",
      "- bert.encoder.layer.0.output.LayerNorm.bias: found shape torch.Size([768]) in the checkpoint and torch.Size([252]) in the model instantiated\n",
      "- bert.encoder.layer.1.attention.self.query.weight: found shape torch.Size([768, 768]) in the checkpoint and torch.Size([252, 252]) in the model instantiated\n",
      "- bert.encoder.layer.1.attention.self.query.bias: found shape torch.Size([768]) in the checkpoint and torch.Size([252]) in the model instantiated\n",
      "- bert.encoder.layer.1.attention.self.key.weight: found shape torch.Size([768, 768]) in the checkpoint and torch.Size([252, 252]) in the model instantiated\n",
      "- bert.encoder.layer.1.attention.self.key.bias: found shape torch.Size([768]) in the checkpoint and torch.Size([252]) in the model instantiated\n",
      "- bert.encoder.layer.1.attention.self.value.weight: found shape torch.Size([768, 768]) in the checkpoint and torch.Size([252, 252]) in the model instantiated\n",
      "- bert.encoder.layer.1.attention.self.value.bias: found shape torch.Size([768]) in the checkpoint and torch.Size([252]) in the model instantiated\n",
      "- bert.encoder.layer.1.attention.output.dense.weight: found shape torch.Size([768, 768]) in the checkpoint and torch.Size([252, 252]) in the model instantiated\n",
      "- bert.encoder.layer.1.attention.output.dense.bias: found shape torch.Size([768]) in the checkpoint and torch.Size([252]) in the model instantiated\n",
      "- bert.encoder.layer.1.attention.output.LayerNorm.weight: found shape torch.Size([768]) in the checkpoint and torch.Size([252]) in the model instantiated\n",
      "- bert.encoder.layer.1.attention.output.LayerNorm.bias: found shape torch.Size([768]) in the checkpoint and torch.Size([252]) in the model instantiated\n",
      "- bert.encoder.layer.1.intermediate.dense.weight: found shape torch.Size([3072, 768]) in the checkpoint and torch.Size([3072, 252]) in the model instantiated\n",
      "- bert.encoder.layer.1.output.dense.weight: found shape torch.Size([768, 3072]) in the checkpoint and torch.Size([252, 3072]) in the model instantiated\n",
      "- bert.encoder.layer.1.output.dense.bias: found shape torch.Size([768]) in the checkpoint and torch.Size([252]) in the model instantiated\n",
      "- bert.encoder.layer.1.output.LayerNorm.weight: found shape torch.Size([768]) in the checkpoint and torch.Size([252]) in the model instantiated\n",
      "- bert.encoder.layer.1.output.LayerNorm.bias: found shape torch.Size([768]) in the checkpoint and torch.Size([252]) in the model instantiated\n",
      "- bert.encoder.layer.2.attention.self.query.weight: found shape torch.Size([768, 768]) in the checkpoint and torch.Size([252, 252]) in the model instantiated\n",
      "- bert.encoder.layer.2.attention.self.query.bias: found shape torch.Size([768]) in the checkpoint and torch.Size([252]) in the model instantiated\n",
      "- bert.encoder.layer.2.attention.self.key.weight: found shape torch.Size([768, 768]) in the checkpoint and torch.Size([252, 252]) in the model instantiated\n",
      "- bert.encoder.layer.2.attention.self.key.bias: found shape torch.Size([768]) in the checkpoint and torch.Size([252]) in the model instantiated\n",
      "- bert.encoder.layer.2.attention.self.value.weight: found shape torch.Size([768, 768]) in the checkpoint and torch.Size([252, 252]) in the model instantiated\n",
      "- bert.encoder.layer.2.attention.self.value.bias: found shape torch.Size([768]) in the checkpoint and torch.Size([252]) in the model instantiated\n",
      "- bert.encoder.layer.2.attention.output.dense.weight: found shape torch.Size([768, 768]) in the checkpoint and torch.Size([252, 252]) in the model instantiated\n",
      "- bert.encoder.layer.2.attention.output.dense.bias: found shape torch.Size([768]) in the checkpoint and torch.Size([252]) in the model instantiated\n",
      "- bert.encoder.layer.2.attention.output.LayerNorm.weight: found shape torch.Size([768]) in the checkpoint and torch.Size([252]) in the model instantiated\n",
      "- bert.encoder.layer.2.attention.output.LayerNorm.bias: found shape torch.Size([768]) in the checkpoint and torch.Size([252]) in the model instantiated\n",
      "- bert.encoder.layer.2.intermediate.dense.weight: found shape torch.Size([3072, 768]) in the checkpoint and torch.Size([3072, 252]) in the model instantiated\n",
      "- bert.encoder.layer.2.output.dense.weight: found shape torch.Size([768, 3072]) in the checkpoint and torch.Size([252, 3072]) in the model instantiated\n",
      "- bert.encoder.layer.2.output.dense.bias: found shape torch.Size([768]) in the checkpoint and torch.Size([252]) in the model instantiated\n",
      "- bert.encoder.layer.2.output.LayerNorm.weight: found shape torch.Size([768]) in the checkpoint and torch.Size([252]) in the model instantiated\n",
      "- bert.encoder.layer.2.output.LayerNorm.bias: found shape torch.Size([768]) in the checkpoint and torch.Size([252]) in the model instantiated\n",
      "- bert.encoder.layer.3.attention.self.query.weight: found shape torch.Size([768, 768]) in the checkpoint and torch.Size([252, 252]) in the model instantiated\n",
      "- bert.encoder.layer.3.attention.self.query.bias: found shape torch.Size([768]) in the checkpoint and torch.Size([252]) in the model instantiated\n",
      "- bert.encoder.layer.3.attention.self.key.weight: found shape torch.Size([768, 768]) in the checkpoint and torch.Size([252, 252]) in the model instantiated\n",
      "- bert.encoder.layer.3.attention.self.key.bias: found shape torch.Size([768]) in the checkpoint and torch.Size([252]) in the model instantiated\n",
      "- bert.encoder.layer.3.attention.self.value.weight: found shape torch.Size([768, 768]) in the checkpoint and torch.Size([252, 252]) in the model instantiated\n",
      "- bert.encoder.layer.3.attention.self.value.bias: found shape torch.Size([768]) in the checkpoint and torch.Size([252]) in the model instantiated\n",
      "- bert.encoder.layer.3.attention.output.dense.weight: found shape torch.Size([768, 768]) in the checkpoint and torch.Size([252, 252]) in the model instantiated\n",
      "- bert.encoder.layer.3.attention.output.dense.bias: found shape torch.Size([768]) in the checkpoint and torch.Size([252]) in the model instantiated\n",
      "- bert.encoder.layer.3.attention.output.LayerNorm.weight: found shape torch.Size([768]) in the checkpoint and torch.Size([252]) in the model instantiated\n",
      "- bert.encoder.layer.3.attention.output.LayerNorm.bias: found shape torch.Size([768]) in the checkpoint and torch.Size([252]) in the model instantiated\n",
      "- bert.encoder.layer.3.intermediate.dense.weight: found shape torch.Size([3072, 768]) in the checkpoint and torch.Size([3072, 252]) in the model instantiated\n",
      "- bert.encoder.layer.3.output.dense.weight: found shape torch.Size([768, 3072]) in the checkpoint and torch.Size([252, 3072]) in the model instantiated\n",
      "- bert.encoder.layer.3.output.dense.bias: found shape torch.Size([768]) in the checkpoint and torch.Size([252]) in the model instantiated\n",
      "- bert.encoder.layer.3.output.LayerNorm.weight: found shape torch.Size([768]) in the checkpoint and torch.Size([252]) in the model instantiated\n",
      "- bert.encoder.layer.3.output.LayerNorm.bias: found shape torch.Size([768]) in the checkpoint and torch.Size([252]) in the model instantiated\n",
      "- bert.encoder.layer.4.attention.self.query.weight: found shape torch.Size([768, 768]) in the checkpoint and torch.Size([252, 252]) in the model instantiated\n",
      "- bert.encoder.layer.4.attention.self.query.bias: found shape torch.Size([768]) in the checkpoint and torch.Size([252]) in the model instantiated\n",
      "- bert.encoder.layer.4.attention.self.key.weight: found shape torch.Size([768, 768]) in the checkpoint and torch.Size([252, 252]) in the model instantiated\n",
      "- bert.encoder.layer.4.attention.self.key.bias: found shape torch.Size([768]) in the checkpoint and torch.Size([252]) in the model instantiated\n",
      "- bert.encoder.layer.4.attention.self.value.weight: found shape torch.Size([768, 768]) in the checkpoint and torch.Size([252, 252]) in the model instantiated\n",
      "- bert.encoder.layer.4.attention.self.value.bias: found shape torch.Size([768]) in the checkpoint and torch.Size([252]) in the model instantiated\n",
      "- bert.encoder.layer.4.attention.output.dense.weight: found shape torch.Size([768, 768]) in the checkpoint and torch.Size([252, 252]) in the model instantiated\n",
      "- bert.encoder.layer.4.attention.output.dense.bias: found shape torch.Size([768]) in the checkpoint and torch.Size([252]) in the model instantiated\n",
      "- bert.encoder.layer.4.attention.output.LayerNorm.weight: found shape torch.Size([768]) in the checkpoint and torch.Size([252]) in the model instantiated\n",
      "- bert.encoder.layer.4.attention.output.LayerNorm.bias: found shape torch.Size([768]) in the checkpoint and torch.Size([252]) in the model instantiated\n",
      "- bert.encoder.layer.4.intermediate.dense.weight: found shape torch.Size([3072, 768]) in the checkpoint and torch.Size([3072, 252]) in the model instantiated\n",
      "- bert.encoder.layer.4.output.dense.weight: found shape torch.Size([768, 3072]) in the checkpoint and torch.Size([252, 3072]) in the model instantiated\n",
      "- bert.encoder.layer.4.output.dense.bias: found shape torch.Size([768]) in the checkpoint and torch.Size([252]) in the model instantiated\n",
      "- bert.encoder.layer.4.output.LayerNorm.weight: found shape torch.Size([768]) in the checkpoint and torch.Size([252]) in the model instantiated\n",
      "- bert.encoder.layer.4.output.LayerNorm.bias: found shape torch.Size([768]) in the checkpoint and torch.Size([252]) in the model instantiated\n",
      "- bert.encoder.layer.5.attention.self.query.weight: found shape torch.Size([768, 768]) in the checkpoint and torch.Size([252, 252]) in the model instantiated\n",
      "- bert.encoder.layer.5.attention.self.query.bias: found shape torch.Size([768]) in the checkpoint and torch.Size([252]) in the model instantiated\n",
      "- bert.encoder.layer.5.attention.self.key.weight: found shape torch.Size([768, 768]) in the checkpoint and torch.Size([252, 252]) in the model instantiated\n",
      "- bert.encoder.layer.5.attention.self.key.bias: found shape torch.Size([768]) in the checkpoint and torch.Size([252]) in the model instantiated\n",
      "- bert.encoder.layer.5.attention.self.value.weight: found shape torch.Size([768, 768]) in the checkpoint and torch.Size([252, 252]) in the model instantiated\n",
      "- bert.encoder.layer.5.attention.self.value.bias: found shape torch.Size([768]) in the checkpoint and torch.Size([252]) in the model instantiated\n",
      "- bert.encoder.layer.5.attention.output.dense.weight: found shape torch.Size([768, 768]) in the checkpoint and torch.Size([252, 252]) in the model instantiated\n",
      "- bert.encoder.layer.5.attention.output.dense.bias: found shape torch.Size([768]) in the checkpoint and torch.Size([252]) in the model instantiated\n",
      "- bert.encoder.layer.5.attention.output.LayerNorm.weight: found shape torch.Size([768]) in the checkpoint and torch.Size([252]) in the model instantiated\n",
      "- bert.encoder.layer.5.attention.output.LayerNorm.bias: found shape torch.Size([768]) in the checkpoint and torch.Size([252]) in the model instantiated\n",
      "- bert.encoder.layer.5.intermediate.dense.weight: found shape torch.Size([3072, 768]) in the checkpoint and torch.Size([3072, 252]) in the model instantiated\n",
      "- bert.encoder.layer.5.output.dense.weight: found shape torch.Size([768, 3072]) in the checkpoint and torch.Size([252, 3072]) in the model instantiated\n",
      "- bert.encoder.layer.5.output.dense.bias: found shape torch.Size([768]) in the checkpoint and torch.Size([252]) in the model instantiated\n",
      "- bert.encoder.layer.5.output.LayerNorm.weight: found shape torch.Size([768]) in the checkpoint and torch.Size([252]) in the model instantiated\n",
      "- bert.encoder.layer.5.output.LayerNorm.bias: found shape torch.Size([768]) in the checkpoint and torch.Size([252]) in the model instantiated\n",
      "- bert.encoder.layer.6.attention.self.query.weight: found shape torch.Size([768, 768]) in the checkpoint and torch.Size([252, 252]) in the model instantiated\n",
      "- bert.encoder.layer.6.attention.self.query.bias: found shape torch.Size([768]) in the checkpoint and torch.Size([252]) in the model instantiated\n",
      "- bert.encoder.layer.6.attention.self.key.weight: found shape torch.Size([768, 768]) in the checkpoint and torch.Size([252, 252]) in the model instantiated\n",
      "- bert.encoder.layer.6.attention.self.key.bias: found shape torch.Size([768]) in the checkpoint and torch.Size([252]) in the model instantiated\n",
      "- bert.encoder.layer.6.attention.self.value.weight: found shape torch.Size([768, 768]) in the checkpoint and torch.Size([252, 252]) in the model instantiated\n",
      "- bert.encoder.layer.6.attention.self.value.bias: found shape torch.Size([768]) in the checkpoint and torch.Size([252]) in the model instantiated\n",
      "- bert.encoder.layer.6.attention.output.dense.weight: found shape torch.Size([768, 768]) in the checkpoint and torch.Size([252, 252]) in the model instantiated\n",
      "- bert.encoder.layer.6.attention.output.dense.bias: found shape torch.Size([768]) in the checkpoint and torch.Size([252]) in the model instantiated\n",
      "- bert.encoder.layer.6.attention.output.LayerNorm.weight: found shape torch.Size([768]) in the checkpoint and torch.Size([252]) in the model instantiated\n",
      "- bert.encoder.layer.6.attention.output.LayerNorm.bias: found shape torch.Size([768]) in the checkpoint and torch.Size([252]) in the model instantiated\n",
      "- bert.encoder.layer.6.intermediate.dense.weight: found shape torch.Size([3072, 768]) in the checkpoint and torch.Size([3072, 252]) in the model instantiated\n",
      "- bert.encoder.layer.6.output.dense.weight: found shape torch.Size([768, 3072]) in the checkpoint and torch.Size([252, 3072]) in the model instantiated\n",
      "- bert.encoder.layer.6.output.dense.bias: found shape torch.Size([768]) in the checkpoint and torch.Size([252]) in the model instantiated\n",
      "- bert.encoder.layer.6.output.LayerNorm.weight: found shape torch.Size([768]) in the checkpoint and torch.Size([252]) in the model instantiated\n",
      "- bert.encoder.layer.6.output.LayerNorm.bias: found shape torch.Size([768]) in the checkpoint and torch.Size([252]) in the model instantiated\n",
      "- bert.encoder.layer.7.attention.self.query.weight: found shape torch.Size([768, 768]) in the checkpoint and torch.Size([252, 252]) in the model instantiated\n",
      "- bert.encoder.layer.7.attention.self.query.bias: found shape torch.Size([768]) in the checkpoint and torch.Size([252]) in the model instantiated\n",
      "- bert.encoder.layer.7.attention.self.key.weight: found shape torch.Size([768, 768]) in the checkpoint and torch.Size([252, 252]) in the model instantiated\n",
      "- bert.encoder.layer.7.attention.self.key.bias: found shape torch.Size([768]) in the checkpoint and torch.Size([252]) in the model instantiated\n",
      "- bert.encoder.layer.7.attention.self.value.weight: found shape torch.Size([768, 768]) in the checkpoint and torch.Size([252, 252]) in the model instantiated\n",
      "- bert.encoder.layer.7.attention.self.value.bias: found shape torch.Size([768]) in the checkpoint and torch.Size([252]) in the model instantiated\n",
      "- bert.encoder.layer.7.attention.output.dense.weight: found shape torch.Size([768, 768]) in the checkpoint and torch.Size([252, 252]) in the model instantiated\n",
      "- bert.encoder.layer.7.attention.output.dense.bias: found shape torch.Size([768]) in the checkpoint and torch.Size([252]) in the model instantiated\n",
      "- bert.encoder.layer.7.attention.output.LayerNorm.weight: found shape torch.Size([768]) in the checkpoint and torch.Size([252]) in the model instantiated\n",
      "- bert.encoder.layer.7.attention.output.LayerNorm.bias: found shape torch.Size([768]) in the checkpoint and torch.Size([252]) in the model instantiated\n",
      "- bert.encoder.layer.7.intermediate.dense.weight: found shape torch.Size([3072, 768]) in the checkpoint and torch.Size([3072, 252]) in the model instantiated\n",
      "- bert.encoder.layer.7.output.dense.weight: found shape torch.Size([768, 3072]) in the checkpoint and torch.Size([252, 3072]) in the model instantiated\n",
      "- bert.encoder.layer.7.output.dense.bias: found shape torch.Size([768]) in the checkpoint and torch.Size([252]) in the model instantiated\n",
      "- bert.encoder.layer.7.output.LayerNorm.weight: found shape torch.Size([768]) in the checkpoint and torch.Size([252]) in the model instantiated\n",
      "- bert.encoder.layer.7.output.LayerNorm.bias: found shape torch.Size([768]) in the checkpoint and torch.Size([252]) in the model instantiated\n",
      "- bert.encoder.layer.8.attention.self.query.weight: found shape torch.Size([768, 768]) in the checkpoint and torch.Size([252, 252]) in the model instantiated\n",
      "- bert.encoder.layer.8.attention.self.query.bias: found shape torch.Size([768]) in the checkpoint and torch.Size([252]) in the model instantiated\n",
      "- bert.encoder.layer.8.attention.self.key.weight: found shape torch.Size([768, 768]) in the checkpoint and torch.Size([252, 252]) in the model instantiated\n",
      "- bert.encoder.layer.8.attention.self.key.bias: found shape torch.Size([768]) in the checkpoint and torch.Size([252]) in the model instantiated\n",
      "- bert.encoder.layer.8.attention.self.value.weight: found shape torch.Size([768, 768]) in the checkpoint and torch.Size([252, 252]) in the model instantiated\n",
      "- bert.encoder.layer.8.attention.self.value.bias: found shape torch.Size([768]) in the checkpoint and torch.Size([252]) in the model instantiated\n",
      "- bert.encoder.layer.8.attention.output.dense.weight: found shape torch.Size([768, 768]) in the checkpoint and torch.Size([252, 252]) in the model instantiated\n",
      "- bert.encoder.layer.8.attention.output.dense.bias: found shape torch.Size([768]) in the checkpoint and torch.Size([252]) in the model instantiated\n",
      "- bert.encoder.layer.8.attention.output.LayerNorm.weight: found shape torch.Size([768]) in the checkpoint and torch.Size([252]) in the model instantiated\n",
      "- bert.encoder.layer.8.attention.output.LayerNorm.bias: found shape torch.Size([768]) in the checkpoint and torch.Size([252]) in the model instantiated\n",
      "- bert.encoder.layer.8.intermediate.dense.weight: found shape torch.Size([3072, 768]) in the checkpoint and torch.Size([3072, 252]) in the model instantiated\n",
      "- bert.encoder.layer.8.output.dense.weight: found shape torch.Size([768, 3072]) in the checkpoint and torch.Size([252, 3072]) in the model instantiated\n",
      "- bert.encoder.layer.8.output.dense.bias: found shape torch.Size([768]) in the checkpoint and torch.Size([252]) in the model instantiated\n",
      "- bert.encoder.layer.8.output.LayerNorm.weight: found shape torch.Size([768]) in the checkpoint and torch.Size([252]) in the model instantiated\n",
      "- bert.encoder.layer.8.output.LayerNorm.bias: found shape torch.Size([768]) in the checkpoint and torch.Size([252]) in the model instantiated\n",
      "- bert.encoder.layer.9.attention.self.query.weight: found shape torch.Size([768, 768]) in the checkpoint and torch.Size([252, 252]) in the model instantiated\n",
      "- bert.encoder.layer.9.attention.self.query.bias: found shape torch.Size([768]) in the checkpoint and torch.Size([252]) in the model instantiated\n",
      "- bert.encoder.layer.9.attention.self.key.weight: found shape torch.Size([768, 768]) in the checkpoint and torch.Size([252, 252]) in the model instantiated\n",
      "- bert.encoder.layer.9.attention.self.key.bias: found shape torch.Size([768]) in the checkpoint and torch.Size([252]) in the model instantiated\n",
      "- bert.encoder.layer.9.attention.self.value.weight: found shape torch.Size([768, 768]) in the checkpoint and torch.Size([252, 252]) in the model instantiated\n",
      "- bert.encoder.layer.9.attention.self.value.bias: found shape torch.Size([768]) in the checkpoint and torch.Size([252]) in the model instantiated\n",
      "- bert.encoder.layer.9.attention.output.dense.weight: found shape torch.Size([768, 768]) in the checkpoint and torch.Size([252, 252]) in the model instantiated\n",
      "- bert.encoder.layer.9.attention.output.dense.bias: found shape torch.Size([768]) in the checkpoint and torch.Size([252]) in the model instantiated\n",
      "- bert.encoder.layer.9.attention.output.LayerNorm.weight: found shape torch.Size([768]) in the checkpoint and torch.Size([252]) in the model instantiated\n",
      "- bert.encoder.layer.9.attention.output.LayerNorm.bias: found shape torch.Size([768]) in the checkpoint and torch.Size([252]) in the model instantiated\n",
      "- bert.encoder.layer.9.intermediate.dense.weight: found shape torch.Size([3072, 768]) in the checkpoint and torch.Size([3072, 252]) in the model instantiated\n",
      "- bert.encoder.layer.9.output.dense.weight: found shape torch.Size([768, 3072]) in the checkpoint and torch.Size([252, 3072]) in the model instantiated\n",
      "- bert.encoder.layer.9.output.dense.bias: found shape torch.Size([768]) in the checkpoint and torch.Size([252]) in the model instantiated\n",
      "- bert.encoder.layer.9.output.LayerNorm.weight: found shape torch.Size([768]) in the checkpoint and torch.Size([252]) in the model instantiated\n",
      "- bert.encoder.layer.9.output.LayerNorm.bias: found shape torch.Size([768]) in the checkpoint and torch.Size([252]) in the model instantiated\n",
      "- bert.encoder.layer.10.attention.self.query.weight: found shape torch.Size([768, 768]) in the checkpoint and torch.Size([252, 252]) in the model instantiated\n",
      "- bert.encoder.layer.10.attention.self.query.bias: found shape torch.Size([768]) in the checkpoint and torch.Size([252]) in the model instantiated\n",
      "- bert.encoder.layer.10.attention.self.key.weight: found shape torch.Size([768, 768]) in the checkpoint and torch.Size([252, 252]) in the model instantiated\n",
      "- bert.encoder.layer.10.attention.self.key.bias: found shape torch.Size([768]) in the checkpoint and torch.Size([252]) in the model instantiated\n",
      "- bert.encoder.layer.10.attention.self.value.weight: found shape torch.Size([768, 768]) in the checkpoint and torch.Size([252, 252]) in the model instantiated\n",
      "- bert.encoder.layer.10.attention.self.value.bias: found shape torch.Size([768]) in the checkpoint and torch.Size([252]) in the model instantiated\n",
      "- bert.encoder.layer.10.attention.output.dense.weight: found shape torch.Size([768, 768]) in the checkpoint and torch.Size([252, 252]) in the model instantiated\n",
      "- bert.encoder.layer.10.attention.output.dense.bias: found shape torch.Size([768]) in the checkpoint and torch.Size([252]) in the model instantiated\n",
      "- bert.encoder.layer.10.attention.output.LayerNorm.weight: found shape torch.Size([768]) in the checkpoint and torch.Size([252]) in the model instantiated\n",
      "- bert.encoder.layer.10.attention.output.LayerNorm.bias: found shape torch.Size([768]) in the checkpoint and torch.Size([252]) in the model instantiated\n",
      "- bert.encoder.layer.10.intermediate.dense.weight: found shape torch.Size([3072, 768]) in the checkpoint and torch.Size([3072, 252]) in the model instantiated\n",
      "- bert.encoder.layer.10.output.dense.weight: found shape torch.Size([768, 3072]) in the checkpoint and torch.Size([252, 3072]) in the model instantiated\n",
      "- bert.encoder.layer.10.output.dense.bias: found shape torch.Size([768]) in the checkpoint and torch.Size([252]) in the model instantiated\n",
      "- bert.encoder.layer.10.output.LayerNorm.weight: found shape torch.Size([768]) in the checkpoint and torch.Size([252]) in the model instantiated\n",
      "- bert.encoder.layer.10.output.LayerNorm.bias: found shape torch.Size([768]) in the checkpoint and torch.Size([252]) in the model instantiated\n",
      "- bert.encoder.layer.11.attention.self.query.weight: found shape torch.Size([768, 768]) in the checkpoint and torch.Size([252, 252]) in the model instantiated\n",
      "- bert.encoder.layer.11.attention.self.query.bias: found shape torch.Size([768]) in the checkpoint and torch.Size([252]) in the model instantiated\n",
      "- bert.encoder.layer.11.attention.self.key.weight: found shape torch.Size([768, 768]) in the checkpoint and torch.Size([252, 252]) in the model instantiated\n",
      "- bert.encoder.layer.11.attention.self.key.bias: found shape torch.Size([768]) in the checkpoint and torch.Size([252]) in the model instantiated\n",
      "- bert.encoder.layer.11.attention.self.value.weight: found shape torch.Size([768, 768]) in the checkpoint and torch.Size([252, 252]) in the model instantiated\n",
      "- bert.encoder.layer.11.attention.self.value.bias: found shape torch.Size([768]) in the checkpoint and torch.Size([252]) in the model instantiated\n",
      "- bert.encoder.layer.11.attention.output.dense.weight: found shape torch.Size([768, 768]) in the checkpoint and torch.Size([252, 252]) in the model instantiated\n",
      "- bert.encoder.layer.11.attention.output.dense.bias: found shape torch.Size([768]) in the checkpoint and torch.Size([252]) in the model instantiated\n",
      "- bert.encoder.layer.11.attention.output.LayerNorm.weight: found shape torch.Size([768]) in the checkpoint and torch.Size([252]) in the model instantiated\n",
      "- bert.encoder.layer.11.attention.output.LayerNorm.bias: found shape torch.Size([768]) in the checkpoint and torch.Size([252]) in the model instantiated\n",
      "- bert.encoder.layer.11.intermediate.dense.weight: found shape torch.Size([3072, 768]) in the checkpoint and torch.Size([3072, 252]) in the model instantiated\n",
      "- bert.encoder.layer.11.output.dense.weight: found shape torch.Size([768, 3072]) in the checkpoint and torch.Size([252, 3072]) in the model instantiated\n",
      "- bert.encoder.layer.11.output.dense.bias: found shape torch.Size([768]) in the checkpoint and torch.Size([252]) in the model instantiated\n",
      "- bert.encoder.layer.11.output.LayerNorm.weight: found shape torch.Size([768]) in the checkpoint and torch.Size([252]) in the model instantiated\n",
      "- bert.encoder.layer.11.output.LayerNorm.bias: found shape torch.Size([768]) in the checkpoint and torch.Size([252]) in the model instantiated\n",
      "- bert.pooler.dense.weight: found shape torch.Size([768, 768]) in the checkpoint and torch.Size([252, 252]) in the model instantiated\n",
      "- bert.pooler.dense.bias: found shape torch.Size([768]) in the checkpoint and torch.Size([252]) in the model instantiated\n",
      "You should probably TRAIN this model on a down-stream task to be able to use it for predictions and inference.\n"
     ]
    }
   ],
   "source": [
    "# (2) モデルの一部の層を削減して軽量化\n",
    "config = AutoConfig.from_pretrained(checkpoint, num_hidden_layers=6)  # 6層に変更\n",
    "model = AutoModel.from_pretrained(checkpoint, config=config)\n",
    "\n",
    "# (3) モデルのEmbedding層の次元を削減\n",
    "config = AutoConfig.from_pretrained(checkpoint, hidden_size=252)\n",
    "model = AutoModel.from_pretrained(checkpoint, config=config, ignore_mismatched_sizes=True)"
   ]
  },
  {
   "cell_type": "code",
   "execution_count": 7,
   "metadata": {},
   "outputs": [
    {
     "name": "stderr",
     "output_type": "stream",
     "text": [
      "Parameter 'function'=<function tokenize_function at 0x2a09b3ec0> of the transform datasets.arrow_dataset.Dataset._map_single couldn't be hashed properly, a random hash was used instead. Make sure your transforms and parameters are serializable with pickle or dill for the dataset fingerprinting and caching to work. If you reuse this transform, the caching mechanism will consider it to be different from the previous calls and recompute everything. This warning is only showed once. Subsequent hashing failures won't be showed.\n",
      "Map: 100%|██████████| 17104/17104 [00:02<00:00, 5934.95 examples/s]\n",
      "Map: 100%|██████████| 1133/1133 [00:00<00:00, 6572.95 examples/s]\n"
     ]
    }
   ],
   "source": [
    "# 前処理関数: tokenize_function\n",
    "# 感情強度の正規化（総和=1）も同時に実施する\n",
    "def tokenize_function(batch):\n",
    "    tokenized_batch = tokenizer(batch['Sentence'], truncation=True, padding='max_length')\n",
    "    tokenized_batch['labels'] = [x / np.sum(x) for x in batch['readers_emotion_intensities']]  # 総和=1に正規化\n",
    "    return tokenized_batch\n",
    "\n",
    "# Transformers用のデータセット形式に変換\n",
    "# pandas.DataFrame -> datasets.Dataset\n",
    "target_columns = ['Sentence', 'readers_emotion_intensities']\n",
    "train_dataset = Dataset.from_pandas(df_train[target_columns])\n",
    "test_dataset = Dataset.from_pandas(df_test[target_columns])\n",
    "\n",
    "# 前処理（tokenize_function） を適用\n",
    "train_tokenized_dataset = train_dataset.map(tokenize_function, batched=True)\n",
    "test_tokenized_dataset = test_dataset.map(tokenize_function, batched=True)"
   ]
  },
  {
   "cell_type": "code",
   "execution_count": 8,
   "metadata": {},
   "outputs": [
    {
     "name": "stderr",
     "output_type": "stream",
     "text": [
      "Some weights of BertForSequenceClassification were not initialized from the model checkpoint at cl-tohoku/bert-base-japanese-whole-word-masking and are newly initialized: ['classifier.weight', 'classifier.bias']\n",
      "You should probably TRAIN this model on a down-stream task to be able to use it for predictions and inference.\n"
     ]
    }
   ],
   "source": [
    "model = AutoModelForSequenceClassification.from_pretrained(checkpoint, num_labels=num_labels)"
   ]
  },
  {
   "cell_type": "code",
   "execution_count": 9,
   "metadata": {},
   "outputs": [
    {
     "name": "stderr",
     "output_type": "stream",
     "text": [
      "/var/folders/8n/5_hjqypx3xngd_rdl100yp2r0000gn/T/ipykernel_5307/1992756082.py:3: FutureWarning: load_metric is deprecated and will be removed in the next major version of datasets. Use 'evaluate.load' instead, from the new library 🤗 Evaluate: https://huggingface.co/docs/evaluate\n",
      "  metric = load_metric(\"accuracy\")\n",
      "/Users/watanabeshingo/sentiment/.venv/lib/python3.11/site-packages/datasets/load.py:752: FutureWarning: The repository for accuracy contains custom code which must be executed to correctly load the metric. You can inspect the repository content at https://raw.githubusercontent.com/huggingface/datasets/2.16.1/metrics/accuracy/accuracy.py\n",
      "You can avoid this message in future by passing the argument `trust_remote_code=True`.\n",
      "Passing `trust_remote_code=True` will be mandatory to load this metric from the next major release of `datasets`.\n",
      "  warnings.warn(\n"
     ]
    }
   ],
   "source": [
    "# 評価指標を定義\n",
    "# https://huggingface.co/docs/transformers/training\n",
    "metric = load_metric(\"accuracy\")\n",
    "def compute_metrics(eval_pred):\n",
    "    logits, labels = eval_pred\n",
    "    predictions = np.argmax(logits, axis=-1)\n",
    "    label_ids = np.argmax(labels, axis=-1)\n",
    "    return metric.compute(predictions=predictions, references=label_ids)\n"
   ]
  },
  {
   "cell_type": "code",
   "execution_count": 10,
   "metadata": {},
   "outputs": [
    {
     "name": "stderr",
     "output_type": "stream",
     "text": [
      "/Users/watanabeshingo/sentiment/.venv/lib/python3.11/site-packages/transformers/optimization.py:429: FutureWarning: This implementation of AdamW is deprecated and will be removed in a future version. Use the PyTorch implementation torch.optim.AdamW instead, or set `no_deprecation_warning=True` to disable this warning\n",
      "  warnings.warn(\n"
     ]
    }
   ],
   "source": [
    "# AdamWオプティマイザの定義\n",
    "optimizer = AdamW(model.parameters(), lr=2e-5)  # lrは学習率,これがデフォルト"
   ]
  },
  {
   "cell_type": "code",
   "execution_count": 11,
   "metadata": {},
   "outputs": [],
   "source": [
    "def tokenize_batch(batch):\n",
    "    return tokenizer(batch['Sentence'], truncation=True, padding=True)"
   ]
  },
  {
   "cell_type": "code",
   "execution_count": 12,
   "metadata": {},
   "outputs": [],
   "source": [
    "# (1)\n",
    "#データセット内の各サンプルのSentenceを同じ長さに調整する\n",
    "# パディングを行うか、あるいはトリミングを行う\n",
    "max_length = 512  # 調整後の最大長さ\n",
    "\n",
    "# Sentenceを指定した長さにトリミングする関数\n",
    "def trim_sentence(sample, tokenizer, max_length):\n",
    "    # Sentenceをトークン化\n",
    "    tokens = tokenizer(\n",
    "        sample['Sentence'],\n",
    "        max_length=max_length,\n",
    "        truncation=True,\n",
    "        padding='max_length'  # パディングもmax_lengthに合わせる\n",
    "    )\n",
    "\n",
    "    # トリミング後のトークンを元のフィーチャに反映\n",
    "    sample['input_ids'] = tokens['input_ids'][:max_length]\n",
    "    sample['attention_mask'] = tokens['attention_mask'][:max_length]\n",
    "\n",
    "    return sample\n",
    "\n",
    "# トリミングを適用\n",
    "trimmed_train_tokenized_dataset = [trim_sentence(sample, tokenizer, max_length) for sample in train_tokenized_dataset]\n",
    "trimmed_test_tokenized_dataset = [trim_sentence(sample, tokenizer, max_length) for sample in test_tokenized_dataset]\n"
   ]
  },
  {
   "cell_type": "code",
   "execution_count": 13,
   "metadata": {},
   "outputs": [],
   "source": [
    "# トレーニング時の設定\n",
    "training_args = TrainingArguments(\n",
    "    output_dir=\"test_trainer\",\n",
    "    per_device_train_batch_size=4,\n",
    "    num_train_epochs=0.9,\n",
    "    evaluation_strategy=\"steps\",\n",
    "    eval_steps=200,\n",
    "    lr_scheduler_type=\"linear\",  # スケジューラのタイプを指定\n",
    ")\n",
    "\n",
    "# 学習率のスケジューラの設定\n",
    "num_training_steps = len(train_tokenized_dataset) // training_args.per_device_train_batch_size * training_args.num_train_epochs\n",
    "warmup_steps = int(0.1 * num_training_steps)\n",
    "scheduler = get_linear_schedule_with_warmup(\n",
    "    optimizer,\n",
    "    num_warmup_steps=warmup_steps,\n",
    "    num_training_steps=num_training_steps\n",
    ")\n"
   ]
  },
  {
   "cell_type": "code",
   "execution_count": 14,
   "metadata": {},
   "outputs": [],
   "source": [
    "class CustomTrainer(Trainer):\n",
    "    def compute_loss(self, model, inputs, return_outputs=False):\n",
    "        labels = inputs.get(\"labels\", None)\n",
    "\n",
    "        if labels is None:\n",
    "            if \"labels\" not in inputs or inputs[\"labels\"] is None:\n",
    "                raise ValueError(\"Labels are missing or None in the inputs during training.\")\n",
    "            else:\n",
    "                labels = inputs[\"labels\"]\n",
    "\n",
    "        # モデルのフォワードパス\n",
    "        outputs = model(**inputs)\n",
    "        # logitsから損失を計算\n",
    "        loss = nn.CrossEntropyLoss()(outputs.logits, labels)\n",
    "\n",
    "        if return_outputs:\n",
    "            return loss, outputs\n",
    "        else:\n",
    "            return loss"
   ]
  },
  {
   "cell_type": "code",
   "execution_count": 15,
   "metadata": {},
   "outputs": [
    {
     "name": "stderr",
     "output_type": "stream",
     "text": [
      "  0%|          | 15/3849 [00:16<1:08:39,  1.07s/it]"
     ]
    },
    {
     "ename": "KeyboardInterrupt",
     "evalue": "",
     "output_type": "error",
     "traceback": [
      "\u001b[0;31m---------------------------------------------------------------------------\u001b[0m",
      "\u001b[0;31mKeyboardInterrupt\u001b[0m                         Traceback (most recent call last)",
      "Cell \u001b[0;32mIn[15], line 12\u001b[0m\n\u001b[1;32m      1\u001b[0m custom_trainer \u001b[38;5;241m=\u001b[39m CustomTrainer(\n\u001b[1;32m      2\u001b[0m     model\u001b[38;5;241m=\u001b[39mmodel,                        \u001b[38;5;66;03m# トレーニングするモデル\u001b[39;00m\n\u001b[1;32m      3\u001b[0m     args\u001b[38;5;241m=\u001b[39mtraining_args,                  \u001b[38;5;66;03m# トレーニングの設定\u001b[39;00m\n\u001b[0;32m   (...)\u001b[0m\n\u001b[1;32m      8\u001b[0m     optimizers\u001b[38;5;241m=\u001b[39m(optimizer, scheduler)    \u001b[38;5;66;03m# カスタムTrainerにはoptimizerとschedulerをタプルで渡す\u001b[39;00m\n\u001b[1;32m      9\u001b[0m )\n\u001b[1;32m     11\u001b[0m \u001b[38;5;66;03m# 訓練を実行\u001b[39;00m\n\u001b[0;32m---> 12\u001b[0m \u001b[43mcustom_trainer\u001b[49m\u001b[38;5;241;43m.\u001b[39;49m\u001b[43mtrain\u001b[49m\u001b[43m(\u001b[49m\u001b[43m)\u001b[49m\n",
      "File \u001b[0;32m~/sentiment/.venv/lib/python3.11/site-packages/transformers/trainer.py:1537\u001b[0m, in \u001b[0;36mTrainer.train\u001b[0;34m(self, resume_from_checkpoint, trial, ignore_keys_for_eval, **kwargs)\u001b[0m\n\u001b[1;32m   1535\u001b[0m         hf_hub_utils\u001b[38;5;241m.\u001b[39menable_progress_bars()\n\u001b[1;32m   1536\u001b[0m \u001b[38;5;28;01melse\u001b[39;00m:\n\u001b[0;32m-> 1537\u001b[0m     \u001b[38;5;28;01mreturn\u001b[39;00m \u001b[43minner_training_loop\u001b[49m\u001b[43m(\u001b[49m\n\u001b[1;32m   1538\u001b[0m \u001b[43m        \u001b[49m\u001b[43margs\u001b[49m\u001b[38;5;241;43m=\u001b[39;49m\u001b[43margs\u001b[49m\u001b[43m,\u001b[49m\n\u001b[1;32m   1539\u001b[0m \u001b[43m        \u001b[49m\u001b[43mresume_from_checkpoint\u001b[49m\u001b[38;5;241;43m=\u001b[39;49m\u001b[43mresume_from_checkpoint\u001b[49m\u001b[43m,\u001b[49m\n\u001b[1;32m   1540\u001b[0m \u001b[43m        \u001b[49m\u001b[43mtrial\u001b[49m\u001b[38;5;241;43m=\u001b[39;49m\u001b[43mtrial\u001b[49m\u001b[43m,\u001b[49m\n\u001b[1;32m   1541\u001b[0m \u001b[43m        \u001b[49m\u001b[43mignore_keys_for_eval\u001b[49m\u001b[38;5;241;43m=\u001b[39;49m\u001b[43mignore_keys_for_eval\u001b[49m\u001b[43m,\u001b[49m\n\u001b[1;32m   1542\u001b[0m \u001b[43m    \u001b[49m\u001b[43m)\u001b[49m\n",
      "File \u001b[0;32m~/sentiment/.venv/lib/python3.11/site-packages/transformers/trainer.py:1854\u001b[0m, in \u001b[0;36mTrainer._inner_training_loop\u001b[0;34m(self, batch_size, args, resume_from_checkpoint, trial, ignore_keys_for_eval)\u001b[0m\n\u001b[1;32m   1851\u001b[0m     \u001b[38;5;28mself\u001b[39m\u001b[38;5;241m.\u001b[39mcontrol \u001b[38;5;241m=\u001b[39m \u001b[38;5;28mself\u001b[39m\u001b[38;5;241m.\u001b[39mcallback_handler\u001b[38;5;241m.\u001b[39mon_step_begin(args, \u001b[38;5;28mself\u001b[39m\u001b[38;5;241m.\u001b[39mstate, \u001b[38;5;28mself\u001b[39m\u001b[38;5;241m.\u001b[39mcontrol)\n\u001b[1;32m   1853\u001b[0m \u001b[38;5;28;01mwith\u001b[39;00m \u001b[38;5;28mself\u001b[39m\u001b[38;5;241m.\u001b[39maccelerator\u001b[38;5;241m.\u001b[39maccumulate(model):\n\u001b[0;32m-> 1854\u001b[0m     tr_loss_step \u001b[38;5;241m=\u001b[39m \u001b[38;5;28;43mself\u001b[39;49m\u001b[38;5;241;43m.\u001b[39;49m\u001b[43mtraining_step\u001b[49m\u001b[43m(\u001b[49m\u001b[43mmodel\u001b[49m\u001b[43m,\u001b[49m\u001b[43m \u001b[49m\u001b[43minputs\u001b[49m\u001b[43m)\u001b[49m\n\u001b[1;32m   1856\u001b[0m \u001b[38;5;28;01mif\u001b[39;00m (\n\u001b[1;32m   1857\u001b[0m     args\u001b[38;5;241m.\u001b[39mlogging_nan_inf_filter\n\u001b[1;32m   1858\u001b[0m     \u001b[38;5;129;01mand\u001b[39;00m \u001b[38;5;129;01mnot\u001b[39;00m is_torch_tpu_available()\n\u001b[1;32m   1859\u001b[0m     \u001b[38;5;129;01mand\u001b[39;00m (torch\u001b[38;5;241m.\u001b[39misnan(tr_loss_step) \u001b[38;5;129;01mor\u001b[39;00m torch\u001b[38;5;241m.\u001b[39misinf(tr_loss_step))\n\u001b[1;32m   1860\u001b[0m ):\n\u001b[1;32m   1861\u001b[0m     \u001b[38;5;66;03m# if loss is nan or inf simply add the average of previous logged losses\u001b[39;00m\n\u001b[1;32m   1862\u001b[0m     tr_loss \u001b[38;5;241m+\u001b[39m\u001b[38;5;241m=\u001b[39m tr_loss \u001b[38;5;241m/\u001b[39m (\u001b[38;5;241m1\u001b[39m \u001b[38;5;241m+\u001b[39m \u001b[38;5;28mself\u001b[39m\u001b[38;5;241m.\u001b[39mstate\u001b[38;5;241m.\u001b[39mglobal_step \u001b[38;5;241m-\u001b[39m \u001b[38;5;28mself\u001b[39m\u001b[38;5;241m.\u001b[39m_globalstep_last_logged)\n",
      "File \u001b[0;32m~/sentiment/.venv/lib/python3.11/site-packages/transformers/trainer.py:2744\u001b[0m, in \u001b[0;36mTrainer.training_step\u001b[0;34m(self, model, inputs)\u001b[0m\n\u001b[1;32m   2742\u001b[0m         scaled_loss\u001b[38;5;241m.\u001b[39mbackward()\n\u001b[1;32m   2743\u001b[0m \u001b[38;5;28;01melse\u001b[39;00m:\n\u001b[0;32m-> 2744\u001b[0m     \u001b[38;5;28;43mself\u001b[39;49m\u001b[38;5;241;43m.\u001b[39;49m\u001b[43maccelerator\u001b[49m\u001b[38;5;241;43m.\u001b[39;49m\u001b[43mbackward\u001b[49m\u001b[43m(\u001b[49m\u001b[43mloss\u001b[49m\u001b[43m)\u001b[49m\n\u001b[1;32m   2746\u001b[0m \u001b[38;5;28;01mreturn\u001b[39;00m loss\u001b[38;5;241m.\u001b[39mdetach() \u001b[38;5;241m/\u001b[39m \u001b[38;5;28mself\u001b[39m\u001b[38;5;241m.\u001b[39margs\u001b[38;5;241m.\u001b[39mgradient_accumulation_steps\n",
      "File \u001b[0;32m~/sentiment/.venv/lib/python3.11/site-packages/accelerate/accelerator.py:1964\u001b[0m, in \u001b[0;36mAccelerator.backward\u001b[0;34m(self, loss, **kwargs)\u001b[0m\n\u001b[1;32m   1962\u001b[0m     \u001b[38;5;28mself\u001b[39m\u001b[38;5;241m.\u001b[39mscaler\u001b[38;5;241m.\u001b[39mscale(loss)\u001b[38;5;241m.\u001b[39mbackward(\u001b[38;5;241m*\u001b[39m\u001b[38;5;241m*\u001b[39mkwargs)\n\u001b[1;32m   1963\u001b[0m \u001b[38;5;28;01melse\u001b[39;00m:\n\u001b[0;32m-> 1964\u001b[0m     \u001b[43mloss\u001b[49m\u001b[38;5;241;43m.\u001b[39;49m\u001b[43mbackward\u001b[49m\u001b[43m(\u001b[49m\u001b[38;5;241;43m*\u001b[39;49m\u001b[38;5;241;43m*\u001b[39;49m\u001b[43mkwargs\u001b[49m\u001b[43m)\u001b[49m\n",
      "File \u001b[0;32m~/sentiment/.venv/lib/python3.11/site-packages/torch/_tensor.py:492\u001b[0m, in \u001b[0;36mTensor.backward\u001b[0;34m(self, gradient, retain_graph, create_graph, inputs)\u001b[0m\n\u001b[1;32m    482\u001b[0m \u001b[38;5;28;01mif\u001b[39;00m has_torch_function_unary(\u001b[38;5;28mself\u001b[39m):\n\u001b[1;32m    483\u001b[0m     \u001b[38;5;28;01mreturn\u001b[39;00m handle_torch_function(\n\u001b[1;32m    484\u001b[0m         Tensor\u001b[38;5;241m.\u001b[39mbackward,\n\u001b[1;32m    485\u001b[0m         (\u001b[38;5;28mself\u001b[39m,),\n\u001b[0;32m   (...)\u001b[0m\n\u001b[1;32m    490\u001b[0m         inputs\u001b[38;5;241m=\u001b[39minputs,\n\u001b[1;32m    491\u001b[0m     )\n\u001b[0;32m--> 492\u001b[0m \u001b[43mtorch\u001b[49m\u001b[38;5;241;43m.\u001b[39;49m\u001b[43mautograd\u001b[49m\u001b[38;5;241;43m.\u001b[39;49m\u001b[43mbackward\u001b[49m\u001b[43m(\u001b[49m\n\u001b[1;32m    493\u001b[0m \u001b[43m    \u001b[49m\u001b[38;5;28;43mself\u001b[39;49m\u001b[43m,\u001b[49m\u001b[43m \u001b[49m\u001b[43mgradient\u001b[49m\u001b[43m,\u001b[49m\u001b[43m \u001b[49m\u001b[43mretain_graph\u001b[49m\u001b[43m,\u001b[49m\u001b[43m \u001b[49m\u001b[43mcreate_graph\u001b[49m\u001b[43m,\u001b[49m\u001b[43m \u001b[49m\u001b[43minputs\u001b[49m\u001b[38;5;241;43m=\u001b[39;49m\u001b[43minputs\u001b[49m\n\u001b[1;32m    494\u001b[0m \u001b[43m\u001b[49m\u001b[43m)\u001b[49m\n",
      "File \u001b[0;32m~/sentiment/.venv/lib/python3.11/site-packages/torch/autograd/__init__.py:251\u001b[0m, in \u001b[0;36mbackward\u001b[0;34m(tensors, grad_tensors, retain_graph, create_graph, grad_variables, inputs)\u001b[0m\n\u001b[1;32m    246\u001b[0m     retain_graph \u001b[38;5;241m=\u001b[39m create_graph\n\u001b[1;32m    248\u001b[0m \u001b[38;5;66;03m# The reason we repeat the same comment below is that\u001b[39;00m\n\u001b[1;32m    249\u001b[0m \u001b[38;5;66;03m# some Python versions print out the first line of a multi-line function\u001b[39;00m\n\u001b[1;32m    250\u001b[0m \u001b[38;5;66;03m# calls in the traceback and some print out the last line\u001b[39;00m\n\u001b[0;32m--> 251\u001b[0m \u001b[43mVariable\u001b[49m\u001b[38;5;241;43m.\u001b[39;49m\u001b[43m_execution_engine\u001b[49m\u001b[38;5;241;43m.\u001b[39;49m\u001b[43mrun_backward\u001b[49m\u001b[43m(\u001b[49m\u001b[43m  \u001b[49m\u001b[38;5;66;43;03m# Calls into the C++ engine to run the backward pass\u001b[39;49;00m\n\u001b[1;32m    252\u001b[0m \u001b[43m    \u001b[49m\u001b[43mtensors\u001b[49m\u001b[43m,\u001b[49m\n\u001b[1;32m    253\u001b[0m \u001b[43m    \u001b[49m\u001b[43mgrad_tensors_\u001b[49m\u001b[43m,\u001b[49m\n\u001b[1;32m    254\u001b[0m \u001b[43m    \u001b[49m\u001b[43mretain_graph\u001b[49m\u001b[43m,\u001b[49m\n\u001b[1;32m    255\u001b[0m \u001b[43m    \u001b[49m\u001b[43mcreate_graph\u001b[49m\u001b[43m,\u001b[49m\n\u001b[1;32m    256\u001b[0m \u001b[43m    \u001b[49m\u001b[43minputs\u001b[49m\u001b[43m,\u001b[49m\n\u001b[1;32m    257\u001b[0m \u001b[43m    \u001b[49m\u001b[43mallow_unreachable\u001b[49m\u001b[38;5;241;43m=\u001b[39;49m\u001b[38;5;28;43;01mTrue\u001b[39;49;00m\u001b[43m,\u001b[49m\n\u001b[1;32m    258\u001b[0m \u001b[43m    \u001b[49m\u001b[43maccumulate_grad\u001b[49m\u001b[38;5;241;43m=\u001b[39;49m\u001b[38;5;28;43;01mTrue\u001b[39;49;00m\u001b[43m,\u001b[49m\n\u001b[1;32m    259\u001b[0m \u001b[43m\u001b[49m\u001b[43m)\u001b[49m\n",
      "\u001b[0;31mKeyboardInterrupt\u001b[0m: "
     ]
    }
   ],
   "source": [
    "custom_trainer = CustomTrainer(\n",
    "    model=model,                        # トレーニングするモデル\n",
    "    args=training_args,                  # トレーニングの設定\n",
    "    train_dataset=trimmed_train_tokenized_dataset,  # トレーニングデータセット\n",
    "    eval_dataset=trimmed_test_tokenized_dataset,    # 評価データセット\n",
    "    compute_metrics=compute_metrics,     # メトリクスの計算関数\n",
    "    # data_collator=pad_collate,  # パディングを行うデータコレーターを指定\n",
    "    optimizers=(optimizer, scheduler)    # カスタムTrainerにはoptimizerとschedulerをタプルで渡す\n",
    ")\n",
    "\n",
    "# 訓練を実行\n",
    "custom_trainer.train()"
   ]
  },
  {
   "cell_type": "code",
   "execution_count": null,
   "metadata": {},
   "outputs": [],
   "source": [
    "from matplotlib import rcParams\n",
    "rcParams['font.family'] = 'sans-serif'\n",
    "rcParams['font.sans-serif'] = ['Hiragino Maru Gothic Pro', 'Yu Gothic', 'Meirio', 'Takao', 'IPAexGothic', 'IPAPGothic', 'VL PGothic', 'Noto Sans CJK JP']\n"
   ]
  },
  {
   "cell_type": "code",
   "execution_count": null,
   "metadata": {},
   "outputs": [
    {
     "data": {
      "image/png": "[encoded data removed]",
      "text/plain": [
       "<Figure size 800x300 with 1 Axes>"
      ]
     },
     "metadata": {},
     "output_type": "display_data"
    }
   ],
   "source": [
    "# https://www.delftstack.com/ja/howto/numpy/numpy-softmax/\n",
    "def np_softmax(x):\n",
    "    f_x = np.exp(x) / np.sum(np.exp(x))\n",
    "    return f_x\n",
    "\n",
    "def analyze_emotion(text, show_fig=False, ret_prob=False):\n",
    "    # 推論モードを有効化\n",
    "    model.eval()\n",
    "\n",
    "    # 入力データ変換 + 推論\n",
    "    tokens = tokenizer(text, truncation=True, return_tensors=\"pt\")\n",
    "    tokens.to(model.device)\n",
    "    preds = model(**tokens)\n",
    "    prob = np_softmax(preds.logits.cpu().detach().numpy()[0])\n",
    "    out_dict = {n: p for n, p in zip(emotion_names_jp, prob)}\n",
    "\n",
    "    # 棒グラフを描画\n",
    "    if show_fig:\n",
    "        plt.figure(figsize=(8, 3))\n",
    "        # 縦軸を固定する\n",
    "        plt.ylim(0, 1)\n",
    "        df = pd.DataFrame(out_dict.items(), columns=['name', 'prob'])\n",
    "        sns.barplot(x='name', y='prob', data=df)\n",
    "        plt.title('入力文 : ' + text, fontsize=15)\n",
    "\n",
    "    if ret_prob:\n",
    "        return out_dict\n",
    "\n",
    "# 動作確認\n",
    "analyze_emotion('今日から長期休暇だぁーーー！！！', show_fig=True)"
   ]
  },
  {
   "cell_type": "code",
   "execution_count": null,
   "metadata": {},
   "outputs": [],
   "source": [
    "# modelの保存\n",
    "model.save_pretrained('./model/wrime_model.bin')"
   ]
  },
  {
   "cell_type": "code",
   "execution_count": null,
   "metadata": {},
   "outputs": [
    {
     "data": {
      "image/png": "[encoded data removed]",
      "text/plain": [
       "<Figure size 800x300 with 1 Axes>"
      ]
     },
     "metadata": {},
     "output_type": "display_data"
    }
   ],
   "source": [
    "# modelの読み込み\n",
    "model = AutoModelForSequenceClassification.from_pretrained('./model/wrime_model.bin', num_labels=num_labels)\n",
    "\n",
    "# 動作確認\n",
    "analyze_emotion('今日から長期休暇だぁーーー！！！', show_fig=True)\n"
   ]
  },
  {
   "cell_type": "code",
   "execution_count": null,
   "metadata": {},
   "outputs": [],
   "source": []
  }
 ],
 "metadata": {
  "kernelspec": {
   "display_name": ".venv",
   "language": "python",
   "name": "python3"
  },
  "language_info": {
   "codemirror_mode": {
    "name": "ipython",
    "version": 3
   },
   "file_extension": ".py",
   "mimetype": "text/x-python",
   "name": "python",
   "nbconvert_exporter": "python",
   "pygments_lexer": "ipython3",
   "version": "3.11.6"
  }
 },
 "nbformat": 4,
 "nbformat_minor": 2
}
